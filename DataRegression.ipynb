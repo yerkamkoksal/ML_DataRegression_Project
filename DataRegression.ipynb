{
  "nbformat": 4,
  "nbformat_minor": 0,
  "metadata": {
    "colab": {
      "provenance": []
    },
    "kernelspec": {
      "name": "python3",
      "display_name": "Python 3"
    },
    "language_info": {
      "name": "python"
    }
  },
  "cells": [
    {
      "cell_type": "markdown",
      "source": [
        "# Machine Learning - Data Regression\n"
      ],
      "metadata": {
        "id": "irTCZpZsk39T"
      }
    },
    {
      "cell_type": "code",
      "source": [
        "import numpy as np\n",
        "import numpy.linalg as LA\n",
        "import matplotlib.pyplot as plt\n",
        "\n",
        "import random\n",
        "from sklearn.model_selection import train_test_split\n",
        "\n",
        "%matplotlib inline"
      ],
      "metadata": {
        "id": "zJR2S9-YlQeK"
      },
      "execution_count": null,
      "outputs": []
    },
    {
      "cell_type": "code",
      "source": [
        "# set the seeds for reproducibility\n",
        "random.seed(412)\n",
        "np.random.seed(412)"
      ],
      "metadata": {
        "id": "fKUGjexY8oC4"
      },
      "execution_count": null,
      "outputs": []
    },
    {
      "cell_type": "markdown",
      "source": [
        "# Generate Data for Regression"
      ],
      "metadata": {
        "id": "UlSNEaq98IZ5"
      }
    },
    {
      "cell_type": "code",
      "source": [
        "def mapping(x, slope, bias):\n",
        "  y = slope * x + bias  # linear function\n",
        "  return y\n",
        "\n",
        "\n",
        "def generate_data(f, N, x_min, x_max):\n",
        "  x_standard = np.random.rand(N, 1) # x values uniformly sampled from range [0, 1]\n",
        "  x = x_standard * (x_max - x_min) + x_min   # carrying x values to the desired range [x_min, x_max]\n",
        "  y = f(x) # compute y values from the underlying function f\n",
        "  eps = 0.1 * np.random.randn(*y.shape)   # Gaussian noise with 0.1 standard deviation\n",
        "  return x, y + eps   # return x's and corrupted f(x) values"
      ],
      "metadata": {
        "id": "mMmWzzr08E_b"
      },
      "execution_count": null,
      "outputs": []
    },
    {
      "cell_type": "code",
      "source": [
        "### PARAMETERS FOR THE DATA GENERATION ###\n",
        "slope, bias = 2.5, 0.5    # slope (w1) and bias (w0) of the linear component\n",
        "x_min, x_max = 0.0, 1.0   # range of x values\n",
        "N = 50                   # number of samples\n",
        "\n",
        "# set the slope, bias parameters of the mapping() function; leave x\n",
        "f = lambda x : mapping(x, slope=slope, bias=bias)\n",
        "\n",
        "# generate N samples with function f, where the x is in range [x_min, x_max]\n",
        "x, y = generate_data(f, N, x_min, x_max)\n",
        "print('x.shape :', x.shape, ', y.shape :', y.shape)"
      ],
      "metadata": {
        "id": "HTOINmZU8rPq"
      },
      "execution_count": null,
      "outputs": []
    },
    {
      "cell_type": "markdown",
      "source": [
        "### 50% Train 50% Validation Split"
      ],
      "metadata": {
        "id": "biVymiQnXDuL"
      }
    },
    {
      "cell_type": "code",
      "source": [
        "# Partition the dataset into train and test datasets\n",
        "x_train, x_val, y_train, y_val = train_test_split(x, y, test_size=0.5, shuffle=False)"
      ],
      "metadata": {
        "id": "S1laxDYbXDHX"
      },
      "execution_count": null,
      "outputs": []
    },
    {
      "cell_type": "markdown",
      "source": [
        "# Make a scatter plot of the data"
      ],
      "metadata": {
        "id": "vRbMsNhhZe9W"
      }
    },
    {
      "cell_type": "code",
      "source": [
        "def plot_samples(train_data, val_data=None):\n",
        "  fig, ax = plt.subplots(figsize=(8, 6), dpi=100)\n",
        "\n",
        "  x_train, y_train = train_data\n",
        "  ax.scatter(x_train, y_train, label='train samples')\n",
        "  if val_data:\n",
        "    x_val, y_val = val_data\n",
        "    ax.scatter(x_val, y_val, label='val samples')\n",
        "\n",
        "  ax.set_xlim([-0.05, 1.05])  # need to change\n",
        "  ax.set_ylim([-0.05, 3.55])  # need to change\n",
        "  ax.set_xlabel('x', fontsize=12)\n",
        "  ax.set_ylabel('f(x)', fontsize=12)\n",
        "  ax.set_title('Simulated Nonlinear Data')\n",
        "  ax.legend(loc='lower right')\n",
        "  return fig, ax"
      ],
      "metadata": {
        "id": "rjWDnAStZeT1"
      },
      "execution_count": null,
      "outputs": []
    },
    {
      "cell_type": "code",
      "source": [
        "# Plot train and test datasets\n",
        "fig, ax = plot_samples(train_data=(x_train, y_train), val_data=(x_val, y_val))"
      ],
      "metadata": {
        "id": "Yu9WeCOyW-Ph"
      },
      "execution_count": null,
      "outputs": []
    },
    {
      "cell_type": "code",
      "source": [
        "del x, y, x_train, y_train, x_val, y_val # I am deleting the variables so that you can start from scratch"
      ],
      "metadata": {
        "id": "rXDi8tJ2GpNe"
      },
      "execution_count": null,
      "outputs": []
    },
    {
      "cell_type": "markdown",
      "source": [
        "#**Your job starts here!**\n",
        "\n",
        "In this homework, we'll explore different regression techniques and their applications using sklearn and NumPy libraries. We'll start by considering **Dataset 1** (see the PDF document for this homework), which has a **linear** relationship between the input variable (**x**) and the target variable (**y**), and use linear regression to model this relationship.\n",
        "\n",
        "First, let's generate Dataset 1:\n",
        "\n"
      ],
      "metadata": {
        "id": "RL_UFpttF1WQ"
      }
    },
    {
      "cell_type": "code",
      "source": [
        "# use the generate_data function to get x, y. Do not change N, x_min, and x_max\n",
        "# split the data to train and validation sets 50%-50% <-- after splitting, you can add a print statement to check the data shapes"
      ],
      "metadata": {
        "id": "iRYEVsfwF_Wn"
      },
      "execution_count": null,
      "outputs": []
    },
    {
      "cell_type": "markdown",
      "source": [
        "# Part 1.a (10pts)\n",
        "\n",
        "Our objective in Part 1.a is to use sklearn's linear regression model on Dataset 1. The main steps are as follows:  \n",
        "\n",
        "1.   Initialize the model\n",
        "2.   Fit it to the data\n",
        "3.   Make predictions on the validation set\n",
        "\n",
        "Then, we will evaluate the performance of the model on the validation set using the **mean squared error (MSE)** metric and print the result."
      ],
      "metadata": {
        "id": "st04Uoirk_c8"
      }
    },
    {
      "cell_type": "code",
      "source": [
        "# import the linear regression model from the sklearn.linear_model module.\n",
        "# import the mean squared error function from sklearn.metrics\n",
        "\n",
        "# initialize the linear regression model\n",
        "# fit the model to the data\n",
        "# find the model's predictions on the validation set\n",
        "\n",
        "# evaluate the model's performance on the validation set using mean squared error (MSE)\n",
        "# print the model's mean squared error using this--> print('MSE of sklearn model: ', mse_sklearn)"
      ],
      "metadata": {
        "id": "ehZCB3n9WaeX"
      },
      "execution_count": null,
      "outputs": []
    },
    {
      "cell_type": "markdown",
      "source": [
        "Next, we'll visualize the linear regression model's fit to Dataset 1 by drawing the **regression line** onto a scatter plot of the train and validation samples. To do this:\n",
        "\n",
        "1.   Make a scatter plot of train and validation samples using the **plot_samples()** function.\n",
        "2.   Draw the regression line onto this plot by following the directions in the comments.\n",
        "\n",
        "By looking at the plot, we can get an idea of how well the linear regression model fits the data."
      ],
      "metadata": {
        "id": "cRHmu131Qu9h"
      }
    },
    {
      "cell_type": "code",
      "source": [
        "# make a scatter plot of the data in the line below using plot_samples() function using both train and val sets\n",
        "# fig, ax = plot_samples((), ()) # uncomment this line after filling in the parantheses, just like we did above\n",
        "\n",
        "x_grid = np.linspace(x_min, x_max, 100) # do not change anything in this line\n",
        "# now use the model's predict() function on x_grid to find y_grid\n",
        "\n",
        "# ax.plot(x_grid, y_grid, color='red', linewidth=3, label='sklearn model') # uncomment this line after obtaining y_grid\n",
        "# ax.legend(loc='lower right') # uncomment this line too\n",
        "# display(fig) # uncomment this line if the plot doesn't appear"
      ],
      "metadata": {
        "id": "IocWdLm6I02k"
      },
      "execution_count": null,
      "outputs": []
    },
    {
      "cell_type": "markdown",
      "source": [
        "Great! Now you know how to find the regression coefficients using the sklearn's linear regression model, and how to plot the regression line. Let's proceed to **Part 1.b**\n",
        "\n",
        "# Part 1.b (10pts)\n",
        "\n",
        "In this part, we will use the pseudo-inverse solution manually to find the optimal regression coefficients. The main steps are as follows:\n",
        "\n",
        "1.   Constructing the extended data matrix **X** that includes a column of ones for the bias (intercept) term.\n",
        "2.   Taking the pseudo-inverse (pinv) of **X**.\n",
        "3.   Finding regression coefficients **w** by using the equation **w** = pinv(**X**) * **y**.\n",
        "\n",
        "*(Note that pinv(**X**) is a 2 x N matrix and **y** is an N x 1 vector. As a result, **w** has dimensions 2 x 1)*"
      ],
      "metadata": {
        "id": "EDj1JATfUREZ"
      }
    },
    {
      "cell_type": "code",
      "source": [
        "from numpy.linalg import pinv\n",
        "''' In the next two lines, construct the extended data matrices for training and validation,\n",
        "by adding a column of ones to the original data matrix. For this, you can use np.concatenate()\n",
        "function with the option axis=1. See the function documentation for further information'''\n",
        "# 1. construct the extended data matrix for train\n",
        "# 2. construct the extended data matrix for val\n",
        "\n",
        "# print the shapes of the extended data matrices, just to check\n",
        "\n",
        "# 3.1. find the pseudoinverse (pinv) of the extended data matrix\n",
        "# 3.2. perform the matrix multiplication pinv(X_extended) * y to find regression coefficients (w) ## look up np.matmul() function\n",
        "\n",
        "# find the models prediction on validation set\n",
        "# evaluate the model's performance on the validation set using mean squared error (MSE)\n",
        "# print the model's mean squared error using this --> print('MSE of manual model: ', mse)"
      ],
      "metadata": {
        "id": "10ty8p9zUQX4"
      },
      "execution_count": null,
      "outputs": []
    },
    {
      "cell_type": "markdown",
      "source": [
        "Now that you have implemented your own linear regression algorithm and found the regression coefficients, let's visualize the results.\n",
        "\n",
        "We will follow similar steps as in **Part 1.a** to draw the regression line found by your implementation onto the scatter plot of Dataset 1. Please follow the directives in the comments for details."
      ],
      "metadata": {
        "id": "0QbGpY0R8vWw"
      }
    },
    {
      "cell_type": "code",
      "source": [
        "# make a scatter plot of the data in the line below using plot_samples() function using both train and val sets\n",
        "# fig, ax = plot_samples((), ()) # uncomment this line after filling in the parantheses, just like we did above\n",
        "\n",
        "x_grid = np.linspace(x_min, x_max, 100)[..., np.newaxis] # do not change anything in this line\n",
        "# first, construct the extended version of x_grid, just like you did to train and validation data matrices\n",
        "# now, using the regression coefficients, find the model's predictions (y_grid = Xw)\n",
        "\n",
        "# ax.plot(x_grid, y_grid, color='red', linewidth=3, label='pinv model') # uncomment this line after obtaining y_grid\n",
        "# ax.legend(loc='lower right') # uncomment this line too\n",
        "# display(fig) # uncomment this line if the plot doesn't appear"
      ],
      "metadata": {
        "id": "0TrsChs49ELp"
      },
      "execution_count": null,
      "outputs": []
    },
    {
      "cell_type": "markdown",
      "source": [
        "Now you also know how to find the regression coefficients manually using the pseudoinverse method. In the last piece of **Part 1**, we're going to find the regression via gradient descent (GD) method. Let's proceed:\n",
        "\n",
        "# Part 1.c (25pts)\n",
        "\n",
        "In this part, we're going to implement gradient descent optimization algorithm to find regression coefficients in an iterative manner. Starting with initial regression coefficients, we're going to take small steps in directions which minimizes the mean squared error. The main steps of the algorithm are as follows:\n",
        "\n",
        "\n",
        "0.   Make sure that your extended data matrices (computed in **Part 1.b**) have dimensions of (N x 2), where N is variable. We don't care about what N is, but the second dimension must be two!\n",
        "1.   Initialize the regression coefficients (i.e., weights **w**) with some values, usually random or zero.\n",
        "2.   Choose a step size (i.e., learning rate **lr**) which determines the size of the steps we take in the direction of minimizing the cost function (**MSE**).\n",
        "3.   Repeat the following steps for **M** steps:\n",
        "\n",
        "     1.   Compute the predicted values using the current regression coefficients and input data:\n",
        "        **y_pred** = **X** * **w**\n",
        "        \n",
        "        *Note that **X** * **w** is matrix multiplication of **X** and **w**.*\n",
        "     2.   Compute the difference between predicted and actual values (i.e., the error):\n",
        "        **pred_error** = **e** = (**y_pred** - **y**)\n",
        "     3.   Compute the gradient of the cost function with respect to the regression coefficients:\n",
        "        **w_grad** = (transpose(**X**) * **e**) / **N**\n",
        "\n",
        "        *Note that transpose(**X**) * **e** is matrix multiplication of transpose(**X**) and **e**, and **N** is the number of samples.*\n",
        "     4.   Update the regression coefficients by subtracting the gradient times the learning rate from the current coefficients.\n",
        "     \n",
        "        (**w** = **w** - **w_grad** * **lr**)\n",
        "     5.   Calculate the new value of the cost function (**MSE**) using the updated regression coefficients **w** and input data **X**.\n",
        "\n",
        "4.   Return the final regression coefficients.\n",
        "\n",
        "**Additional Info**\n",
        "\n",
        "**X** is an N x 2 matrix. **y** is an N x 1 column vector. **w** is a 2 x 1 column vector. As a result of the matrix multiplication, **y_pred** = **X** * **w** should also have dimensions of N x 1, same with **y** !\n",
        "\n",
        "transpose(**X**) has dimensions of 2 x N. Similarly, the matrix multiplication transpose(**X**) * **e** yields **w_grad** with dimensions 2 x 1, same with **w** !\n",
        "\n",
        "These values are here for you to check yourself while writing your code. While developing your code, use the **shape** property of your numpy arrays sparingly!"
      ],
      "metadata": {
        "id": "C3qyelHw-HL2"
      }
    },
    {
      "cell_type": "code",
      "source": [
        "M = 1000 # number of iterations\n",
        "lr = 0.1 # learning_rate, you don't have to play with this value.\n",
        "\n",
        "# initialize your regression coefficients using np.zeros() or np.random.randn() (what are the dimensions of w ?)\n",
        "for i in range(M):\n",
        "  '''Follow the steps given above'''\n",
        "  # 1. ?\n",
        "  # 2. ??\n",
        "  # 3. ???\n",
        "  # 4. ????\n",
        "  # 5. ?????\n",
        "  # if (i == 0) or ((i+1) % 100 == 0):\n",
        "  #   print('MSE error at step {}: {:.4f}'.format(i+1, ***MSE calculated in step 5*** ))"
      ],
      "metadata": {
        "id": "G1WC65hZDx-D"
      },
      "execution_count": null,
      "outputs": []
    },
    {
      "cell_type": "markdown",
      "source": [
        "Now, we'll draw the regression line found by your implementation onto the scatter plot of Dataset 1. For that, we're going to:\n",
        "\n",
        "1.   Make a scatter plot of train and validation samples using plot_samples() function.\n",
        "2.   Draw the regression line onto this plot by following the directions in the comments."
      ],
      "metadata": {
        "id": "l6V9wwM1fMu0"
      }
    },
    {
      "cell_type": "code",
      "source": [
        "# make a scatter plot of the data in the line below using plot_samples() function using both train and val sets\n",
        "# fig, ax = plot_samples((), ()) # uncomment this line after filling in the parantheses, just like we did above\n",
        "\n",
        "x_grid = np.linspace(x_min, x_max, 100)[..., np.newaxis] # do not change anything in this line\n",
        "# first, construct the extended version of x_grid, just like you did to train and validation data matrices\n",
        "# now, using the regression coefficients, find the model's predictions (y_grid = Xw)\n",
        "\n",
        "# ax.plot(x_grid, y_grid, color='red', linewidth=3, label='pinv model') # uncomment this line after obtaining y_grid\n",
        "# ax.legend(loc='lower right') # uncomment this line too\n",
        "# display(fig) # uncomment this line if the plot doesn't appear"
      ],
      "metadata": {
        "id": "5nuw-XVTgFZX"
      },
      "execution_count": null,
      "outputs": []
    },
    {
      "cell_type": "markdown",
      "source": [
        "# Part 2 - Data Generation\n",
        "\n",
        "In Part 2 of the homework, we are moving from **Dataset 1** which has a **linear** relationship between the input variable (**x**) and the target variable (**y**), to **Dataset 2** which has a **non-linear** relationship between **x** and **y**, requiring the use of non-linear regression techniques to model the relationship, such as polynomial regression.\n",
        "\n",
        "In this part, we are going to load the data from an **.npy** file, which is a file format used to store numerical data in Python, optimized for use with the NumPy library."
      ],
      "metadata": {
        "id": "7Vpf0wI0hiOf"
      }
    },
    {
      "cell_type": "code",
      "source": [
        "x = np.load('dataset2_data.npy')\n",
        "y = np.load('dataset2_labels.npy')\n",
        "\n",
        "# Write code to split the data to train and validation sets 50%-50% <-- after splitting, you can add a print statement to check the data shapes"
      ],
      "metadata": {
        "id": "8AFDA8DAkHHz"
      },
      "execution_count": null,
      "outputs": []
    },
    {
      "cell_type": "markdown",
      "source": [
        "\n",
        "# Part 2.a (20pts)\n",
        "\n",
        "Our objective in Part 2.a is to use the sklearn library for performing linear regression on **polynomial features**. To do this,\n",
        "\n",
        "1.   We'll use **PolynomialFeatures** from the **sklearn.preprocessing** module to expand our input data matrix **X** with polynomial features.\n",
        "2.   Then, we'll use **LinearRegression** from **sklearn.linear_model** to fit the model to X.\n",
        "3.   Make predictions on the validation set.\n",
        "\n",
        "We'll evaluate the model's performance on the validation set using the **mean squared error (MSE)** metric and print the result.\n",
        "\n",
        "Try polynomial degrees of 1, 3, 5, and 7 and comment on the best model in your report.\n",
        "\n",
        "*-Please check the documentation of PolynomialFeatures before starting this part.*"
      ],
      "metadata": {
        "id": "I4090c3skTQS"
      }
    },
    {
      "cell_type": "code",
      "source": [
        "# import the polynomial features object from sklearn.preprocessing module\n",
        "\n",
        "# order = ... # <-- specify the order of the polynomial features\n",
        "# construct polynomial features of degree \"order\" using PolynomialFeatures()\n",
        "# fit the polynomial features to training data using fit_transform() function of your PolynomialFeatures object\n",
        "# transform the validation data using transform() function of your PolynomialFeatures object\n",
        "\n",
        "# initialize linear regression model\n",
        "# fit the model to the polynomial features of training data\n",
        "# make predictions on validation set\n",
        "\n",
        "# evaluate the model's performance on the validation set using mean squared error (MSE)\n",
        "# print the model's mean squared error using this--> print('MSE of sklearn model: ', mse_sklearn_polynomial)"
      ],
      "metadata": {
        "id": "-8VM3db-rJPv"
      },
      "execution_count": null,
      "outputs": []
    },
    {
      "cell_type": "markdown",
      "source": [
        "Now we're moving on to the plot. This part is similar to the previous ones, but be careful to pick up small differences.\n",
        "\n",
        "By looking at the plot, we can get an idea of how well the polynomial regression model fits the data."
      ],
      "metadata": {
        "id": "1rzYCpNOw0mj"
      }
    },
    {
      "cell_type": "code",
      "source": [
        "# make a scatter plot of the data in the line below using plot_samples() function using both train and val sets\n",
        "# fig, ax = plot_samples((), ()) # uncomment this line after filling in the parantheses, just like we did above\n",
        "\n",
        "x_grid = np.linspace(x_min, x_max, 100)[..., np.newaxis] # do not change anything in this line\n",
        "# transform the x_grid the same way you transformed the validation data\n",
        "# now use the linear regression model's predict() function on transformed x_grid to find y_grid\n",
        "\n",
        "# ax.plot(x_grid, y_grid, color='red', linewidth=3, label='sklearn model') # uncomment this line after obtaining y_grid\n",
        "# ax.legend(loc='lower right') # uncomment this line too\n",
        "# display(fig) # uncomment this line if the plot doesn't appear"
      ],
      "metadata": {
        "id": "y-K7xLL9u97t"
      },
      "execution_count": null,
      "outputs": []
    },
    {
      "cell_type": "markdown",
      "source": [
        "# Part 2.b (15)\n",
        "\n",
        "In this part, we will implement our own polynomial regression algorithm to find the optimal regression coefficients. The main steps are as follows:\n",
        "\n",
        "1.   Choose the degree of the polynomial regression as **3**. Above, you were asked to vary this and choose the best model (best polynomial degree) according to validation set; however in this part the aim is just to learn the implementation.\n",
        "2.   Constructing the data matrix **X** that includes a column of ones for the bias (intercept) term.\n",
        "3.   Taking the pseudo-inverse (pinv) of **X**.\n",
        "4.   Finding regression coefficients **w** by using the equation **w** = pinv(**X**) * **y**.\n",
        "\n",
        "*(Note that pinv(**X**) is a (degree+1) x N matrix and **y** is an N x 1 vector. As a result, **w** has dimensions (degree+1) x 1)*\n",
        "\n",
        ".\n",
        "\n",
        ".\n",
        "\n",
        ".\n",
        "\n",
        "**Illustration for Step 2 of algorithm (for degree 3)**\n",
        "\n",
        "From $\\quad x = \\begin{bmatrix}\n",
        "x_1 \\\\ x_2\\\\ \\vdots \\\\ x_N \\\\\n",
        "\\end{bmatrix}$, we want to obtain $\\quad X = \\begin{bmatrix}\n",
        "1 & x_1 & x_1^2 & x_1^3 \\\\\n",
        "1 & x_2 & x_2^2 & x_2^3 \\\\\n",
        "\\vdots & \\vdots & \\vdots & \\vdots \\\\\n",
        "1 & x_N & x_N^2 & x_N^3 \\\\\n",
        "\\end{bmatrix}$.\n",
        "\n",
        "\n",
        "where N is the number of samples (in either train or val dataset), and each column holds a power of **x**, starting from 0-th power in the first column, till the **degree** you specified."
      ],
      "metadata": {
        "id": "SFybH0AJwzV1"
      }
    },
    {
      "cell_type": "code",
      "source": [
        "from numpy.linalg import pinv\n",
        "''' In the next two lines, construct the data matrices containing polynomial features for training and validation,\n",
        "by adding columns of powers of the original data vector. For this, you can use np.concatenate()\n",
        "function with the option axis=1. See the function documentation for further information'''\n",
        "# 1. construct the data matrix for train\n",
        "# 2. construct the data matrix for val\n",
        "\n",
        "# print the shapes of the data matrices, just to check\n",
        "\n",
        "# 3.1. find the pseudoinverse (pinv) of the data matrix\n",
        "# 3.2. perform the matrix multiplication pinv(X) * y to find regression coefficients (w) ## look up np.matmul() function\n",
        "\n",
        "# find the models prediction on validation set\n",
        "# evaluate the model's performance on the validation set using mean squared error (MSE)\n",
        "# print the model's mean squared error using this --> print('MSE of sklearn model: ', mse_sklearn)"
      ],
      "metadata": {
        "id": "B92NiF7M6UZN"
      },
      "execution_count": null,
      "outputs": []
    },
    {
      "cell_type": "markdown",
      "source": [
        "Make a plot"
      ],
      "metadata": {
        "id": "3nv10L629EIp"
      }
    },
    {
      "cell_type": "code",
      "source": [
        "# make a scatter plot of the data in the line below using plot_samples() function using both train and val sets\n",
        "# fig, ax = plot_samples((), ()) # uncomment this line after filling in the parantheses, just like we did above\n",
        "\n",
        "x_grid = np.linspace(x_min, x_max, 100)[..., np.newaxis] # do not change anything in this line\n",
        "# transform the x_grid the same way you transformed the train and val vectors.\n",
        "# now, using the regression coefficients, find the model's predictions (y_grid = Xw)\n",
        "\n",
        "# ax.plot(x_grid, y_grid, color='red', linewidth=3, label='sklearn model') # uncomment this line after obtaining y_grid\n",
        "# ax.legend(loc='lower right') # uncomment this line too\n",
        "# display(fig) # uncomment this line if the plot doesn't appear"
      ],
      "metadata": {
        "id": "LTDaJl2J9BiP"
      },
      "execution_count": null,
      "outputs": []
    },
    {
      "cell_type": "markdown",
      "source": [
        "# Report (20pts)\n",
        "\n",
        "*   Prepare a PDF report with the following and **include a link to your Colab Notebook at the top. making sure the link public** (-20pts if missing or not public)!\n",
        "\n",
        "*   Your report should contain sections in the same order as you're seeing in this notebook and labeled as **Part 1.a Results** etc). **In each part, you should include the regression coefficients you have found in that part and all the plots and MSE errors.**\n",
        "\n",
        "*   In Part 1, you should comment on whether the gradient descent solution is the same (or very close) to solutions obtained for Part1.a and b. If not, add a line of explanation as to why you think it is not.\n",
        "\n",
        "*   In Part 2, comment on the effect of the **degree** parameter. What happens when it is chosen too small or too big? What do you think is the optimal **degree** value, and why? Discuss from the perspective of **underfitting**/**overfitting**."
      ],
      "metadata": {
        "id": "t8Qyb2bp9ao9"
      }
    }
  ]
}